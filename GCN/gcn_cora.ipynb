{
 "cells": [
  {
   "cell_type": "code",
   "execution_count": 10,
   "id": "6e44eafd",
   "metadata": {},
   "outputs": [
    {
     "name": "stdout",
     "output_type": "stream",
     "text": [
      "Requirement already satisfied: ipynb in d:\\anaconda\\envs\\deeplearning\\lib\\site-packages (0.5.1)\n",
      "Requirement already satisfied: torch in d:\\anaconda\\envs\\deeplearning\\lib\\site-packages (1.11.0)\n",
      "Requirement already satisfied: typing-extensions in d:\\anaconda\\envs\\deeplearning\\lib\\site-packages (from torch) (4.1.1)\n"
     ]
    }
   ],
   "source": [
    "! pip install ipynb\n",
    "! pip install torch"
   ]
  },
  {
   "cell_type": "code",
   "execution_count": 11,
   "id": "e2efcaa2",
   "metadata": {},
   "outputs": [],
   "source": [
    "import ipynb.fs.full.basics_laplace as basics_laplace\n",
    "import torch"
   ]
  },
  {
   "cell_type": "markdown",
   "id": "634b7970",
   "metadata": {},
   "source": [
    "## Implementing a 1-hop GCN layer in Pytorch\n",
    "\n",
    "Y is the output. Lnorm is the Laplacian of the Adjacency Matrix A. X is the graph signal. W are the learnable parameters. D is the Degree-Matrix of A. I is the Identity Matrix.\n",
    "\n",
    "$$Y=Lnorm​XW$$\n",
    "$$L^{norm}mod​=D^{−1/2}​(A+I)D^{-1/2}​$$"
   ]
  },
  {
   "cell_type": "code",
   "execution_count": 15,
   "id": "6e5efe9e",
   "metadata": {},
   "outputs": [],
   "source": [
    "import numpy as np\n",
    "import torch\n",
    "from torch import nn\n",
    "import torch.nn.functional as F\n",
    "\n",
    "def device_as(x,y):\n",
    "    return x.to(y.device)\n",
    "\n",
    "def calc_degree_matrix_norm(a):\n",
    "    return torch.diag_embed(torch.pow(a.sum(dim=-1),-0.5))\n",
    "\n",
    "def create_graph_lapl_norm(a):\n",
    "    size = a.shape[-1]\n",
    "    a +=  device_as(torch.eye(size),a)\n",
    "    D_norm = calc_degree_matrix_norm(a)\n",
    "    L_norm = torch.bmm( torch.bmm(D_norm, a) , D_norm )\n",
    "    return L_norm\n",
    "\n",
    "class GCN_AISUMMER(nn.Module):\n",
    "    \"\"\"\n",
    "    A simple GCN layer, similar to https://arxiv.org/abs/1609.02907\n",
    "    \"\"\"\n",
    "    def __init__(self, in_features, out_features, bias=True):\n",
    "        super().__init__()\n",
    "        self.linear = nn.Linear(in_features, out_features, bias=bias)\n",
    "\n",
    "    def forward(self, X, A):\n",
    "        \"\"\"\n",
    "        A: adjecency matrix\n",
    "        X: graph signal\n",
    "        \"\"\"\n",
    "        L = create_graph_lapl_norm(A)\n",
    "        x = self.linear(X)\n",
    "        return torch.bmm(L, x)"
   ]
  },
  {
   "cell_type": "code",
   "execution_count": 16,
   "id": "3ce97b96",
   "metadata": {},
   "outputs": [],
   "source": [
    "import torch\n",
    "from torch import nn\n",
    "import torch.nn.functional as F\n",
    "\n",
    "class GNN(nn.Module):\n",
    "    def __init__(self,\n",
    "                    in_features = 7,\n",
    "                    hidden_dim = 64,\n",
    "                    classes = 2,\n",
    "                    dropout = 0.5):\n",
    "        super(GNN, self).__init__()\n",
    "\n",
    "        self.conv1 = GCN_AISUMMER(in_features, hidden_dim)\n",
    "        self.conv2 = GCN_AISUMMER(hidden_dim, hidden_dim)\n",
    "        self.conv3 = GCN_AISUMMER(hidden_dim, hidden_dim)\n",
    "        self.fc = nn.Linear(hidden_dim, classes)\n",
    "        self.dropout = dropout\n",
    "\n",
    "    def forward(self, x,A):\n",
    "        x = self.conv1(x, A)\n",
    "        x = F.relu(x)\n",
    "        x = self.conv2(x, A)\n",
    "        x = F.relu(x)\n",
    "        x = self.conv3(x, A)\n",
    "        x = F.dropout(x, p=self.dropout, training=self.training)\n",
    "        # aggregate node embeddings\n",
    "        x = x.mean(dim=1)\n",
    "        # final classification layer\n",
    "        return self.fc(x)"
   ]
  },
  {
   "cell_type": "code",
   "execution_count": null,
   "id": "849ab179",
   "metadata": {},
   "outputs": [],
   "source": []
  }
 ],
 "metadata": {
  "kernelspec": {
   "display_name": "Python 3 (ipykernel)",
   "language": "python",
   "name": "python3"
  },
  "language_info": {
   "codemirror_mode": {
    "name": "ipython",
    "version": 3
   },
   "file_extension": ".py",
   "mimetype": "text/x-python",
   "name": "python",
   "nbconvert_exporter": "python",
   "pygments_lexer": "ipython3",
   "version": "3.7.11"
  }
 },
 "nbformat": 4,
 "nbformat_minor": 5
}
