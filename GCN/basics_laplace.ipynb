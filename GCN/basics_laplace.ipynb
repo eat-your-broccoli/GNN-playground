{
 "cells": [
  {
   "cell_type": "code",
   "execution_count": 1,
   "id": "326a38c5",
   "metadata": {},
   "outputs": [],
   "source": [
    "import tensorflow as tf\n",
    "import numpy as np"
   ]
  },
  {
   "cell_type": "markdown",
   "id": "809d3753",
   "metadata": {},
   "source": [
    "# Basics for GCN\n",
    "\n",
    "This notebook provides some intuition for some basic math operations, variables and their meaning in GCN."
   ]
  },
  {
   "cell_type": "markdown",
   "id": "7ec1dca4",
   "metadata": {},
   "source": [
    "## Adjacency matrix A\n",
    "\n",
    "A is a N * N matrix, N being the number of nodes in the graph. a_ij = x meaning that there is a connection between nodes i and j with weight x. A can be symmetric (undirected graph), but it doesn't have to be (directed graph). Values can be binary (unweighted) or non-binary (weighted). "
   ]
  },
  {
   "cell_type": "code",
   "execution_count": 2,
   "id": "9226f55a",
   "metadata": {},
   "outputs": [
    {
     "name": "stdout",
     "output_type": "stream",
     "text": [
      "[[0 1 0 1]\n",
      " [1 0 1 1]\n",
      " [0 1 0 0]\n",
      " [1 1 0 1]]\n"
     ]
    }
   ],
   "source": [
    "A = np.matrix([[0,1,0,1], [1,0,1,1], [0,1,0,0], [1,1,0,1]])\n",
    "print(A)"
   ]
  },
  {
   "cell_type": "markdown",
   "id": "3c6d27ca",
   "metadata": {},
   "source": [
    "## Degree of a node and Degree Matrix D\n",
    "\n",
    "The degree of a Node n shows how many direct neighbors a node has. D is a matrix that has the respective degree of each node on the diagonal."
   ]
  },
  {
   "cell_type": "code",
   "execution_count": 3,
   "id": "1444fa24",
   "metadata": {},
   "outputs": [
    {
     "name": "stdout",
     "output_type": "stream",
     "text": [
      "[[2. 0. 0. 0.]\n",
      " [0. 3. 0. 0.]\n",
      " [0. 0. 1. 0.]\n",
      " [0. 0. 0. 3.]]\n"
     ]
    }
   ],
   "source": [
    "def to_diagonal(arr):\n",
    "    d = np.zeros([arr.shape[0],arr.shape[0]])\n",
    "    np.fill_diagonal(d, arr)\n",
    "    return d\n",
    "\n",
    "def calc_degree_matrix(mat):\n",
    "    node_degrees = mat.sum(axis=1)\n",
    "    return to_diagonal(node_degrees)\n",
    "\n",
    "D = calc_degree_matrix(A)\n",
    "print(D)"
   ]
  },
  {
   "cell_type": "markdown",
   "id": "ec00c892",
   "metadata": {},
   "source": [
    "## Laplacian L\n",
    "\n",
    "The graph laplacian is defined as L = D - A"
   ]
  },
  {
   "cell_type": "code",
   "execution_count": 4,
   "id": "b9c7643c",
   "metadata": {},
   "outputs": [
    {
     "name": "stdout",
     "output_type": "stream",
     "text": [
      "[[ 2. -1.  0. -1.]\n",
      " [-1.  3. -1. -1.]\n",
      " [ 0. -1.  1.  0.]\n",
      " [-1. -1.  0.  2.]]\n"
     ]
    }
   ],
   "source": [
    "def create_graph_lapl(mat):\n",
    "    return calc_degree_matrix(mat) - mat\n",
    "\n",
    "L = create_graph_lapl(A)\n",
    "print(L)"
   ]
  },
  {
   "cell_type": "markdown",
   "id": "888afbc5",
   "metadata": {},
   "source": [
    "## Normalized Laplacian L_norm\n",
    "\n",
    "The Laplacian needs to be normed. This helps gradient-based operations to perform better."
   ]
  },
  {
   "cell_type": "code",
   "execution_count": 5,
   "id": "a7894460",
   "metadata": {},
   "outputs": [],
   "source": [
    "def calc_degree_matrix_norm(mat):\n",
    "    return to_diagonal(np.power(mat.sum(axis=1), -0.5))\n",
    "\n",
    "def create_graph_lapl_norm(a):\n",
    "    size = a.shape[-1]\n",
    "    D_norm = calc_degree_matrix_norm(a)\n",
    "    L_norm = np.ones(size) - (D_norm @ a @ D_norm )\n",
    "    return L_norm"
   ]
  },
  {
   "cell_type": "code",
   "execution_count": 6,
   "id": "5c07e5ad",
   "metadata": {},
   "outputs": [
    {
     "name": "stdout",
     "output_type": "stream",
     "text": [
      "[[1.         1.         0.59175171 0.42264973 0.59175171]\n",
      " [0.66666667 1.         0.59175171 1.         0.59175171]\n",
      " [0.59175171 1.         1.         1.         0.5       ]\n",
      " [1.         0.42264973 1.         1.         1.        ]\n",
      " [1.         1.         0.5        0.29289322 1.        ]]\n"
     ]
    }
   ],
   "source": [
    "A = np.matrix([[0., 0., 1., 1., 1.],\n",
    "          [1., 0., 1., 0., 1.],\n",
    "          [1., 0., 0., 0., 1.],\n",
    "          [0., 1., 0., 0., 0.],\n",
    "          [0., 0., 1., 1., 0.]])\n",
    "\n",
    "L_norm = create_graph_lapl_norm(A)\n",
    "print(L_norm)"
   ]
  }
 ],
 "metadata": {
  "kernelspec": {
   "display_name": "Python 3 (ipykernel)",
   "language": "python",
   "name": "python3"
  },
  "language_info": {
   "codemirror_mode": {
    "name": "ipython",
    "version": 3
   },
   "file_extension": ".py",
   "mimetype": "text/x-python",
   "name": "python",
   "nbconvert_exporter": "python",
   "pygments_lexer": "ipython3",
   "version": "3.7.11"
  }
 },
 "nbformat": 4,
 "nbformat_minor": 5
}
