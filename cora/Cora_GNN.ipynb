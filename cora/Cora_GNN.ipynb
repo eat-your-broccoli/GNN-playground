{
 "cells": [
  {
   "cell_type": "markdown",
   "id": "43dc82e8",
   "metadata": {},
   "source": [
    "# using GNN with the Cora-Dataset\n",
    "\n",
    "Tutorial / Code taken from https://www.youtube.com/watch?v=8owQBFAHw7E\n",
    "\n",
    "https://relational.fit.cvut.cz/dataset/CORA\n",
    "\"The Cora dataset consists of 2708 scientific publications classified into one of seven classes. The citation network consists of 5429 links. Each publication in the dataset is described by a 0/1-valued word vector indicating the absence/presence of the corresponding word from the dictionary. The dictionary consists of 1433 unique words.\""
   ]
  },
  {
   "cell_type": "code",
   "execution_count": 34,
   "id": "f91a0733",
   "metadata": {},
   "outputs": [
    {
     "name": "stdout",
     "output_type": "stream",
     "text": [
      "Requirement already satisfied: spektral in d:\\anaconda\\envs\\deeplearning\\lib\\site-packages (1.1.0)\n",
      "Requirement already satisfied: joblib in d:\\anaconda\\envs\\deeplearning\\lib\\site-packages (from spektral) (1.1.0)\n",
      "Requirement already satisfied: scikit-learn in d:\\anaconda\\envs\\deeplearning\\lib\\site-packages (from spektral) (1.0.2)\n",
      "Requirement already satisfied: lxml in d:\\anaconda\\envs\\deeplearning\\lib\\site-packages (from spektral) (4.8.0)\n",
      "Requirement already satisfied: tensorflow>=2.2.0 in d:\\anaconda\\envs\\deeplearning\\lib\\site-packages (from spektral) (2.8.0)\n",
      "Requirement already satisfied: tqdm in d:\\anaconda\\envs\\deeplearning\\lib\\site-packages (from spektral) (4.64.0)\n",
      "Requirement already satisfied: numpy in d:\\anaconda\\envs\\deeplearning\\lib\\site-packages (from spektral) (1.21.5)\n",
      "Requirement already satisfied: networkx in d:\\anaconda\\envs\\deeplearning\\lib\\site-packages (from spektral) (2.6.3)\n",
      "Requirement already satisfied: scipy in d:\\anaconda\\envs\\deeplearning\\lib\\site-packages (from spektral) (1.7.3)\n",
      "Requirement already satisfied: pandas in d:\\anaconda\\envs\\deeplearning\\lib\\site-packages (from spektral) (1.3.5)\n",
      "Requirement already satisfied: requests in d:\\anaconda\\envs\\deeplearning\\lib\\site-packages (from spektral) (2.27.1)\n",
      "Requirement already satisfied: six>=1.12.0 in d:\\anaconda\\envs\\deeplearning\\lib\\site-packages (from tensorflow>=2.2.0->spektral) (1.16.0)\n",
      "Requirement already satisfied: tensorboard<2.9,>=2.8 in d:\\anaconda\\envs\\deeplearning\\lib\\site-packages (from tensorflow>=2.2.0->spektral) (2.8.0)\n",
      "Requirement already satisfied: keras<2.9,>=2.8.0rc0 in d:\\anaconda\\envs\\deeplearning\\lib\\site-packages (from tensorflow>=2.2.0->spektral) (2.8.0)\n",
      "Requirement already satisfied: keras-preprocessing>=1.1.1 in d:\\anaconda\\envs\\deeplearning\\lib\\site-packages (from tensorflow>=2.2.0->spektral) (1.1.2)\n",
      "Requirement already satisfied: absl-py>=0.4.0 in d:\\anaconda\\envs\\deeplearning\\lib\\site-packages (from tensorflow>=2.2.0->spektral) (1.0.0)\n",
      "Requirement already satisfied: grpcio<2.0,>=1.24.3 in d:\\anaconda\\envs\\deeplearning\\lib\\site-packages (from tensorflow>=2.2.0->spektral) (1.44.0)\n",
      "Requirement already satisfied: tf-estimator-nightly==2.8.0.dev2021122109 in d:\\anaconda\\envs\\deeplearning\\lib\\site-packages (from tensorflow>=2.2.0->spektral) (2.8.0.dev2021122109)\n",
      "Requirement already satisfied: flatbuffers>=1.12 in d:\\anaconda\\envs\\deeplearning\\lib\\site-packages (from tensorflow>=2.2.0->spektral) (2.0)\n",
      "Requirement already satisfied: typing-extensions>=3.6.6 in d:\\anaconda\\envs\\deeplearning\\lib\\site-packages (from tensorflow>=2.2.0->spektral) (4.1.1)\n",
      "Requirement already satisfied: protobuf>=3.9.2 in d:\\anaconda\\envs\\deeplearning\\lib\\site-packages (from tensorflow>=2.2.0->spektral) (3.19.4)\n",
      "Requirement already satisfied: google-pasta>=0.1.1 in d:\\anaconda\\envs\\deeplearning\\lib\\site-packages (from tensorflow>=2.2.0->spektral) (0.2.0)\n",
      "Requirement already satisfied: termcolor>=1.1.0 in d:\\anaconda\\envs\\deeplearning\\lib\\site-packages (from tensorflow>=2.2.0->spektral) (1.1.0)\n",
      "Requirement already satisfied: astunparse>=1.6.0 in d:\\anaconda\\envs\\deeplearning\\lib\\site-packages (from tensorflow>=2.2.0->spektral) (1.6.3)\n",
      "Requirement already satisfied: opt-einsum>=2.3.2 in d:\\anaconda\\envs\\deeplearning\\lib\\site-packages (from tensorflow>=2.2.0->spektral) (3.3.0)\n",
      "Requirement already satisfied: libclang>=9.0.1 in d:\\anaconda\\envs\\deeplearning\\lib\\site-packages (from tensorflow>=2.2.0->spektral) (13.0.0)\n",
      "Requirement already satisfied: setuptools in d:\\anaconda\\envs\\deeplearning\\lib\\site-packages (from tensorflow>=2.2.0->spektral) (58.0.4)\n",
      "Requirement already satisfied: wrapt>=1.11.0 in d:\\anaconda\\envs\\deeplearning\\lib\\site-packages (from tensorflow>=2.2.0->spektral) (1.14.0)\n",
      "Requirement already satisfied: gast>=0.2.1 in d:\\anaconda\\envs\\deeplearning\\lib\\site-packages (from tensorflow>=2.2.0->spektral) (0.5.3)\n",
      "Requirement already satisfied: tensorflow-io-gcs-filesystem>=0.23.1 in d:\\anaconda\\envs\\deeplearning\\lib\\site-packages (from tensorflow>=2.2.0->spektral) (0.24.0)\n",
      "Requirement already satisfied: h5py>=2.9.0 in d:\\anaconda\\envs\\deeplearning\\lib\\site-packages (from tensorflow>=2.2.0->spektral) (3.6.0)\n",
      "Requirement already satisfied: wheel<1.0,>=0.23.0 in d:\\anaconda\\envs\\deeplearning\\lib\\site-packages (from astunparse>=1.6.0->tensorflow>=2.2.0->spektral) (0.37.1)\n",
      "Requirement already satisfied: cached-property in d:\\anaconda\\envs\\deeplearning\\lib\\site-packages (from h5py>=2.9.0->tensorflow>=2.2.0->spektral) (1.5.2)\n",
      "Requirement already satisfied: werkzeug>=0.11.15 in d:\\anaconda\\envs\\deeplearning\\lib\\site-packages (from tensorboard<2.9,>=2.8->tensorflow>=2.2.0->spektral) (2.0.3)\n",
      "Requirement already satisfied: google-auth<3,>=1.6.3 in d:\\anaconda\\envs\\deeplearning\\lib\\site-packages (from tensorboard<2.9,>=2.8->tensorflow>=2.2.0->spektral) (2.6.2)\n",
      "Requirement already satisfied: tensorboard-data-server<0.7.0,>=0.6.0 in d:\\anaconda\\envs\\deeplearning\\lib\\site-packages (from tensorboard<2.9,>=2.8->tensorflow>=2.2.0->spektral) (0.6.1)\n",
      "Requirement already satisfied: tensorboard-plugin-wit>=1.6.0 in d:\\anaconda\\envs\\deeplearning\\lib\\site-packages (from tensorboard<2.9,>=2.8->tensorflow>=2.2.0->spektral) (1.8.1)\n",
      "Requirement already satisfied: google-auth-oauthlib<0.5,>=0.4.1 in d:\\anaconda\\envs\\deeplearning\\lib\\site-packages (from tensorboard<2.9,>=2.8->tensorflow>=2.2.0->spektral) (0.4.6)\n",
      "Requirement already satisfied: markdown>=2.6.8 in d:\\anaconda\\envs\\deeplearning\\lib\\site-packages (from tensorboard<2.9,>=2.8->tensorflow>=2.2.0->spektral) (3.3.6)\n",
      "Requirement already satisfied: pyasn1-modules>=0.2.1 in d:\\anaconda\\envs\\deeplearning\\lib\\site-packages (from google-auth<3,>=1.6.3->tensorboard<2.9,>=2.8->tensorflow>=2.2.0->spektral) (0.2.8)\n",
      "Requirement already satisfied: rsa<5,>=3.1.4 in d:\\anaconda\\envs\\deeplearning\\lib\\site-packages (from google-auth<3,>=1.6.3->tensorboard<2.9,>=2.8->tensorflow>=2.2.0->spektral) (4.8)\n",
      "Requirement already satisfied: cachetools<6.0,>=2.0.0 in d:\\anaconda\\envs\\deeplearning\\lib\\site-packages (from google-auth<3,>=1.6.3->tensorboard<2.9,>=2.8->tensorflow>=2.2.0->spektral) (5.0.0)\n",
      "Requirement already satisfied: requests-oauthlib>=0.7.0 in d:\\anaconda\\envs\\deeplearning\\lib\\site-packages (from google-auth-oauthlib<0.5,>=0.4.1->tensorboard<2.9,>=2.8->tensorflow>=2.2.0->spektral) (1.3.1)\n",
      "Requirement already satisfied: importlib-metadata>=4.4 in d:\\anaconda\\envs\\deeplearning\\lib\\site-packages (from markdown>=2.6.8->tensorboard<2.9,>=2.8->tensorflow>=2.2.0->spektral) (4.11.3)\n",
      "Requirement already satisfied: zipp>=0.5 in d:\\anaconda\\envs\\deeplearning\\lib\\site-packages (from importlib-metadata>=4.4->markdown>=2.6.8->tensorboard<2.9,>=2.8->tensorflow>=2.2.0->spektral) (3.7.0)\n",
      "Requirement already satisfied: pyasn1<0.5.0,>=0.4.6 in d:\\anaconda\\envs\\deeplearning\\lib\\site-packages (from pyasn1-modules>=0.2.1->google-auth<3,>=1.6.3->tensorboard<2.9,>=2.8->tensorflow>=2.2.0->spektral) (0.4.8)\n",
      "Requirement already satisfied: idna<4,>=2.5 in d:\\anaconda\\envs\\deeplearning\\lib\\site-packages (from requests->spektral) (3.3)\n",
      "Requirement already satisfied: urllib3<1.27,>=1.21.1 in d:\\anaconda\\envs\\deeplearning\\lib\\site-packages (from requests->spektral) (1.26.9)\n",
      "Requirement already satisfied: charset-normalizer~=2.0.0 in d:\\anaconda\\envs\\deeplearning\\lib\\site-packages (from requests->spektral) (2.0.12)\n",
      "Requirement already satisfied: certifi>=2017.4.17 in d:\\anaconda\\envs\\deeplearning\\lib\\site-packages (from requests->spektral) (2021.10.8)\n",
      "Requirement already satisfied: oauthlib>=3.0.0 in d:\\anaconda\\envs\\deeplearning\\lib\\site-packages (from requests-oauthlib>=0.7.0->google-auth-oauthlib<0.5,>=0.4.1->tensorboard<2.9,>=2.8->tensorflow>=2.2.0->spektral) (3.2.0)\n",
      "Requirement already satisfied: pytz>=2017.3 in d:\\anaconda\\envs\\deeplearning\\lib\\site-packages (from pandas->spektral) (2021.3)\n",
      "Requirement already satisfied: python-dateutil>=2.7.3 in d:\\anaconda\\envs\\deeplearning\\lib\\site-packages (from pandas->spektral) (2.8.2)\n",
      "Requirement already satisfied: threadpoolctl>=2.0.0 in d:\\anaconda\\envs\\deeplearning\\lib\\site-packages (from scikit-learn->spektral) (3.1.0)\n",
      "Requirement already satisfied: colorama in d:\\anaconda\\envs\\deeplearning\\lib\\site-packages (from tqdm->spektral) (0.4.4)\n"
     ]
    },
    {
     "name": "stdout",
     "output_type": "stream",
     "text": [
      "Requirement already satisfied: tensorflow in d:\\anaconda\\envs\\deeplearning\\lib\\site-packages (2.8.0)\n",
      "Requirement already satisfied: google-pasta>=0.1.1 in d:\\anaconda\\envs\\deeplearning\\lib\\site-packages (from tensorflow) (0.2.0)\n",
      "Requirement already satisfied: typing-extensions>=3.6.6 in d:\\anaconda\\envs\\deeplearning\\lib\\site-packages (from tensorflow) (4.1.1)\n",
      "Requirement already satisfied: wrapt>=1.11.0 in d:\\anaconda\\envs\\deeplearning\\lib\\site-packages (from tensorflow) (1.14.0)\n",
      "Requirement already satisfied: tensorboard<2.9,>=2.8 in d:\\anaconda\\envs\\deeplearning\\lib\\site-packages (from tensorflow) (2.8.0)\n",
      "Requirement already satisfied: flatbuffers>=1.12 in d:\\anaconda\\envs\\deeplearning\\lib\\site-packages (from tensorflow) (2.0)\n",
      "Requirement already satisfied: six>=1.12.0 in d:\\anaconda\\envs\\deeplearning\\lib\\site-packages (from tensorflow) (1.16.0)\n",
      "Requirement already satisfied: termcolor>=1.1.0 in d:\\anaconda\\envs\\deeplearning\\lib\\site-packages (from tensorflow) (1.1.0)\n",
      "Requirement already satisfied: keras-preprocessing>=1.1.1 in d:\\anaconda\\envs\\deeplearning\\lib\\site-packages (from tensorflow) (1.1.2)\n",
      "Requirement already satisfied: numpy>=1.20 in d:\\anaconda\\envs\\deeplearning\\lib\\site-packages (from tensorflow) (1.21.5)\n",
      "Requirement already satisfied: libclang>=9.0.1 in d:\\anaconda\\envs\\deeplearning\\lib\\site-packages (from tensorflow) (13.0.0)\n",
      "Requirement already satisfied: tf-estimator-nightly==2.8.0.dev2021122109 in d:\\anaconda\\envs\\deeplearning\\lib\\site-packages (from tensorflow) (2.8.0.dev2021122109)\n",
      "Requirement already satisfied: tensorflow-io-gcs-filesystem>=0.23.1 in d:\\anaconda\\envs\\deeplearning\\lib\\site-packages (from tensorflow) (0.24.0)\n",
      "Requirement already satisfied: keras<2.9,>=2.8.0rc0 in d:\\anaconda\\envs\\deeplearning\\lib\\site-packages (from tensorflow) (2.8.0)\n",
      "Requirement already satisfied: astunparse>=1.6.0 in d:\\anaconda\\envs\\deeplearning\\lib\\site-packages (from tensorflow) (1.6.3)\n",
      "Requirement already satisfied: setuptools in d:\\anaconda\\envs\\deeplearning\\lib\\site-packages (from tensorflow) (58.0.4)\n",
      "Requirement already satisfied: h5py>=2.9.0 in d:\\anaconda\\envs\\deeplearning\\lib\\site-packages (from tensorflow) (3.6.0)\n",
      "Requirement already satisfied: absl-py>=0.4.0 in d:\\anaconda\\envs\\deeplearning\\lib\\site-packages (from tensorflow) (1.0.0)\n",
      "Requirement already satisfied: opt-einsum>=2.3.2 in d:\\anaconda\\envs\\deeplearning\\lib\\site-packages (from tensorflow) (3.3.0)\n",
      "Requirement already satisfied: grpcio<2.0,>=1.24.3 in d:\\anaconda\\envs\\deeplearning\\lib\\site-packages (from tensorflow) (1.44.0)\n",
      "Requirement already satisfied: protobuf>=3.9.2 in d:\\anaconda\\envs\\deeplearning\\lib\\site-packages (from tensorflow) (3.19.4)\n",
      "Requirement already satisfied: gast>=0.2.1 in d:\\anaconda\\envs\\deeplearning\\lib\\site-packages (from tensorflow) (0.5.3)\n",
      "Requirement already satisfied: wheel<1.0,>=0.23.0 in d:\\anaconda\\envs\\deeplearning\\lib\\site-packages (from astunparse>=1.6.0->tensorflow) (0.37.1)\n",
      "Requirement already satisfied: cached-property in d:\\anaconda\\envs\\deeplearning\\lib\\site-packages (from h5py>=2.9.0->tensorflow) (1.5.2)\n",
      "Requirement already satisfied: werkzeug>=0.11.15 in d:\\anaconda\\envs\\deeplearning\\lib\\site-packages (from tensorboard<2.9,>=2.8->tensorflow) (2.0.3)\n",
      "Requirement already satisfied: tensorboard-plugin-wit>=1.6.0 in d:\\anaconda\\envs\\deeplearning\\lib\\site-packages (from tensorboard<2.9,>=2.8->tensorflow) (1.8.1)\n",
      "Requirement already satisfied: requests<3,>=2.21.0 in d:\\anaconda\\envs\\deeplearning\\lib\\site-packages (from tensorboard<2.9,>=2.8->tensorflow) (2.27.1)\n",
      "Requirement already satisfied: markdown>=2.6.8 in d:\\anaconda\\envs\\deeplearning\\lib\\site-packages (from tensorboard<2.9,>=2.8->tensorflow) (3.3.6)\n",
      "Requirement already satisfied: google-auth-oauthlib<0.5,>=0.4.1 in d:\\anaconda\\envs\\deeplearning\\lib\\site-packages (from tensorboard<2.9,>=2.8->tensorflow) (0.4.6)\n",
      "Requirement already satisfied: tensorboard-data-server<0.7.0,>=0.6.0 in d:\\anaconda\\envs\\deeplearning\\lib\\site-packages (from tensorboard<2.9,>=2.8->tensorflow) (0.6.1)\n",
      "Requirement already satisfied: google-auth<3,>=1.6.3 in d:\\anaconda\\envs\\deeplearning\\lib\\site-packages (from tensorboard<2.9,>=2.8->tensorflow) (2.6.2)\n",
      "Requirement already satisfied: rsa<5,>=3.1.4 in d:\\anaconda\\envs\\deeplearning\\lib\\site-packages (from google-auth<3,>=1.6.3->tensorboard<2.9,>=2.8->tensorflow) (4.8)\n",
      "Requirement already satisfied: pyasn1-modules>=0.2.1 in d:\\anaconda\\envs\\deeplearning\\lib\\site-packages (from google-auth<3,>=1.6.3->tensorboard<2.9,>=2.8->tensorflow) (0.2.8)\n",
      "Requirement already satisfied: cachetools<6.0,>=2.0.0 in d:\\anaconda\\envs\\deeplearning\\lib\\site-packages (from google-auth<3,>=1.6.3->tensorboard<2.9,>=2.8->tensorflow) (5.0.0)\n",
      "Requirement already satisfied: requests-oauthlib>=0.7.0 in d:\\anaconda\\envs\\deeplearning\\lib\\site-packages (from google-auth-oauthlib<0.5,>=0.4.1->tensorboard<2.9,>=2.8->tensorflow) (1.3.1)\n",
      "Requirement already satisfied: importlib-metadata>=4.4 in d:\\anaconda\\envs\\deeplearning\\lib\\site-packages (from markdown>=2.6.8->tensorboard<2.9,>=2.8->tensorflow) (4.11.3)\n",
      "Requirement already satisfied: zipp>=0.5 in d:\\anaconda\\envs\\deeplearning\\lib\\site-packages (from importlib-metadata>=4.4->markdown>=2.6.8->tensorboard<2.9,>=2.8->tensorflow) (3.7.0)\n",
      "Requirement already satisfied: pyasn1<0.5.0,>=0.4.6 in d:\\anaconda\\envs\\deeplearning\\lib\\site-packages (from pyasn1-modules>=0.2.1->google-auth<3,>=1.6.3->tensorboard<2.9,>=2.8->tensorflow) (0.4.8)\n",
      "Requirement already satisfied: idna<4,>=2.5 in d:\\anaconda\\envs\\deeplearning\\lib\\site-packages (from requests<3,>=2.21.0->tensorboard<2.9,>=2.8->tensorflow) (3.3)\n",
      "Requirement already satisfied: certifi>=2017.4.17 in d:\\anaconda\\envs\\deeplearning\\lib\\site-packages (from requests<3,>=2.21.0->tensorboard<2.9,>=2.8->tensorflow) (2021.10.8)\n",
      "Requirement already satisfied: charset-normalizer~=2.0.0 in d:\\anaconda\\envs\\deeplearning\\lib\\site-packages (from requests<3,>=2.21.0->tensorboard<2.9,>=2.8->tensorflow) (2.0.12)\n",
      "Requirement already satisfied: urllib3<1.27,>=1.21.1 in d:\\anaconda\\envs\\deeplearning\\lib\\site-packages (from requests<3,>=2.21.0->tensorboard<2.9,>=2.8->tensorflow) (1.26.9)\n",
      "Requirement already satisfied: oauthlib>=3.0.0 in d:\\anaconda\\envs\\deeplearning\\lib\\site-packages (from requests-oauthlib>=0.7.0->google-auth-oauthlib<0.5,>=0.4.1->tensorboard<2.9,>=2.8->tensorflow) (3.2.0)\n",
      "Requirement already satisfied: numpy in d:\\anaconda\\envs\\deeplearning\\lib\\site-packages (1.21.5)\n"
     ]
    }
   ],
   "source": [
    "!pip install spektral\n",
    "!pip install tensorflow\n",
    "!pip install numpy"
   ]
  },
  {
   "cell_type": "code",
   "execution_count": 35,
   "id": "8d78df0a",
   "metadata": {},
   "outputs": [],
   "source": [
    "import tensorflow as tf\n",
    "import numpy as np\n",
    "import spektral as spektral"
   ]
  },
  {
   "cell_type": "code",
   "execution_count": 36,
   "id": "7467e7f7",
   "metadata": {},
   "outputs": [
    {
     "name": "stdout",
     "output_type": "stream",
     "text": [
      "140\n",
      "500\n",
      "1000\n"
     ]
    }
   ],
   "source": [
    "# import cora dataset\n",
    "cora_dataset = spektral.datasets.citation.Citation(name='cora')\n",
    "\n",
    "test_mask = cora_dataset.mask_te\n",
    "train_mask = cora_dataset.mask_tr\n",
    "val_mask = cora_dataset.mask_va\n",
    "\n",
    "graph = cora_dataset.graphs[0] # cora has only one dataset\n",
    "\n",
    "features = graph.x # the features are a one-hot encoding of the 1433 words \n",
    "adj = graph.a # adjacency matrix (element at ij == 1 --> doc i has cited doc j)\n",
    "labels = graph.y # one hot encoding of topics (7 topics)\n",
    "\n",
    "adj = adj.todense() # convert to dense representation\n",
    "adj = adj + np.eye(adj.shape[0]) # add identity matrix so that every element is a neighbor of itself\n",
    "\n",
    "adj = adj.astype('float32')\n",
    "\n",
    "features = features.astype('float32')\n",
    "\n",
    "print(np.sum(train_mask))\n",
    "print(np.sum(val_mask))\n",
    "print(np.sum(test_mask))\n"
   ]
  },
  {
   "cell_type": "code",
   "execution_count": 37,
   "id": "d2c59e8e",
   "metadata": {},
   "outputs": [],
   "source": [
    "# return cross entropy of only masked entites (ignoring some values)\n",
    "# logits are the predicted probability\n",
    "# labels are actual labels\n",
    "# mask are the elements that count\n",
    "def masked_softmax_cross_entropy(logits, labels, mask): \n",
    "    loss = tf.nn.softmax_cross_entropy_with_logits(logits=logits, labels=labels)\n",
    "    mask = tf.cast(mask, dtype=tf.float32)\n",
    "    mask /= tf.reduce_mean(mask)\n",
    "    loss *= mask\n",
    "    return tf.reduce_mean(loss)\n",
    "\n",
    "# return accuracy of only masked entities\n",
    "def masked_accuracy(logits, labels, mask): \n",
    "    correct_prediction = tf.equal(tf.argmax(logits, 1), tf.argmax(labels, 1))\n",
    "    accuraccy_all = tf.cast(correct_prediction, dtype=tf.float32)\n",
    "    mask = tf.cast(mask, dtype=tf.float32)\n",
    "    mask /= tf.reduce_mean(mask)\n",
    "    accuraccy_all *= mask\n",
    "    return tf.reduce_mean(accuraccy_all)"
   ]
  },
  {
   "cell_type": "code",
   "execution_count": 38,
   "id": "441c4f53",
   "metadata": {},
   "outputs": [],
   "source": [
    "# basic gnn framework\n",
    "def gnn(fts, adj, transform, activation): \n",
    "    seq_fts = transform(fts) # transform each node individually\n",
    "    ret_fts = tf.matmul(adj, seq_fts) # recombine across neigborhoods\n",
    "    return activation(ret_fts) # apply activation function"
   ]
  },
  {
   "cell_type": "code",
   "execution_count": 39,
   "id": "5bac9a69",
   "metadata": {},
   "outputs": [],
   "source": [
    "def train_cora(fts, adj, gnn_fn, units, epochs, lr):\n",
    "    lyr_1 = tf.keras.layers.Dense(units) # hidden layer\n",
    "    lyr_2 = tf.keras.layers.Dense(7) # output layer. 7 topics == 7 outputs\n",
    "    \n",
    "    def cora_gnn(fts, adj):\n",
    "        hidden = gnn_fn(fts, adj, lyr_1, tf.nn.relu)\n",
    "        logits = gnn_fn(hidden, adj, lyr_2, tf.identity)\n",
    "        return logits\n",
    "    \n",
    "    optimizer = tf.keras.optimizers.Adam(learning_rate=lr)\n",
    "    best_accuracy = 0.0\n",
    "    \n",
    "    # training throug epochs\n",
    "    for ep in range (epochs + 1):\n",
    "        with tf.GradientTape() as t: # use gradient tape for auto diff for backpropagation\n",
    "            logits = cora_gnn(fts, adj) # make predictions\n",
    "            loss = masked_softmax_cross_entropy(logits, labels, train_mask) # calculate loss\n",
    "            \n",
    "        variables = t.watched_variables()\n",
    "        grads = t.gradient(loss, variables)\n",
    "        optimizer.apply_gradients(zip(grads, variables))\n",
    "        \n",
    "        logits = cora_gnn(fts, adj)\n",
    "        val_accuracy = masked_accuracy(logits, labels, val_mask) # validation and test accuracy\n",
    "        test_accuracy = masked_accuracy(logits, labels, test_mask)\n",
    "        \n",
    "        if val_accuracy > best_accuracy:\n",
    "            best_accuracy = val_accuracy\n",
    "            print( 'Epoch', ep, \n",
    "                  '| Training loss:', loss.numpy(), \n",
    "                  '| Val acuracy:', val_accuracy.numpy(), \n",
    "                  '| Test accuracy:', test_accuracy.numpy())"
   ]
  },
  {
   "cell_type": "code",
   "execution_count": 40,
   "id": "54f88abd",
   "metadata": {},
   "outputs": [
    {
     "name": "stdout",
     "output_type": "stream",
     "text": [
      "Epoch 0 | Training loss: 5.0037503 | Val acuracy: 0.42599997 | Test accuracy: 0.43299994\n",
      "Epoch 2 | Training loss: 3.3168325 | Val acuracy: 0.42799997 | Test accuracy: 0.447\n",
      "Epoch 3 | Training loss: 1.7218795 | Val acuracy: 0.528 | Test accuracy: 0.54099995\n",
      "Epoch 4 | Training loss: 1.4378206 | Val acuracy: 0.63 | Test accuracy: 0.6319999\n",
      "Epoch 5 | Training loss: 0.84919816 | Val acuracy: 0.6779999 | Test accuracy: 0.678\n",
      "Epoch 6 | Training loss: 0.56004775 | Val acuracy: 0.688 | Test accuracy: 0.6929999\n",
      "Epoch 9 | Training loss: 0.35979638 | Val acuracy: 0.70399994 | Test accuracy: 0.69799995\n",
      "Epoch 10 | Training loss: 0.27656454 | Val acuracy: 0.71199995 | Test accuracy: 0.70699996\n",
      "Epoch 21 | Training loss: 0.048452117 | Val acuracy: 0.71799994 | Test accuracy: 0.71699995\n",
      "Epoch 22 | Training loss: 0.04216026 | Val acuracy: 0.72199994 | Test accuracy: 0.71799994\n",
      "Epoch 23 | Training loss: 0.037084024 | Val acuracy: 0.7239999 | Test accuracy: 0.7199999\n",
      "Epoch 24 | Training loss: 0.033030905 | Val acuracy: 0.72999996 | Test accuracy: 0.7239999\n",
      "Epoch 28 | Training loss: 0.02113357 | Val acuracy: 0.73399997 | Test accuracy: 0.73199993\n",
      "Epoch 29 | Training loss: 0.01876868 | Val acuracy: 0.73599994 | Test accuracy: 0.73399997\n",
      "Epoch 30 | Training loss: 0.016546963 | Val acuracy: 0.738 | Test accuracy: 0.73099995\n",
      "Epoch 38 | Training loss: 0.0066317697 | Val acuracy: 0.73999995 | Test accuracy: 0.73199993\n"
     ]
    }
   ],
   "source": [
    "train_cora(features, adj, gnn, 32, 200, 0.01)"
   ]
  }
 ],
 "metadata": {
  "kernelspec": {
   "display_name": "Python 3 (ipykernel)",
   "language": "python",
   "name": "python3"
  },
  "language_info": {
   "codemirror_mode": {
    "name": "ipython",
    "version": 3
   },
   "file_extension": ".py",
   "mimetype": "text/x-python",
   "name": "python",
   "nbconvert_exporter": "python",
   "pygments_lexer": "ipython3",
   "version": "3.7.11"
  }
 },
 "nbformat": 4,
 "nbformat_minor": 5
}
